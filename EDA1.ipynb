{
  "nbformat": 4,
  "nbformat_minor": 0,
  "metadata": {
    "colab": {
      "private_outputs": true,
      "provenance": []
    },
    "kernelspec": {
      "name": "python3",
      "display_name": "Python 3"
    },
    "language_info": {
      "name": "python"
    }
  },
  "cells": [
    {
      "cell_type": "code",
      "execution_count": null,
      "metadata": {
        "id": "lf-sJuMsHLiu"
      },
      "outputs": [],
      "source": [
        "import re\n",
        "import numpy as np\n",
        "import pandas as pd\n",
        "import matplotlib.pyplot as plt\n",
        "import seaborn as sns\n",
        "import folium\n",
        "from folium.plugins import HeatMap"
      ]
    },
    {
      "cell_type": "code",
      "source": [
        "df_siniestros = pd.read_excel(\"homicidios.xlsx\")\n",
        "df_victimas = pd.read_excel(\"lesiones.xlsx\")"
      ],
      "metadata": {
        "id": "N04fLVmyHQPX"
      },
      "execution_count": null,
      "outputs": []
    },
    {
      "cell_type": "code",
      "source": [
        "df_siniestros"
      ],
      "metadata": {
        "id": "R7K93xh6HTQ3"
      },
      "execution_count": null,
      "outputs": []
    },
    {
      "cell_type": "code",
      "source": [
        "df_siniestros.info()"
      ],
      "metadata": {
        "id": "Vq3HM52-HWEf"
      },
      "execution_count": null,
      "outputs": []
    },
    {
      "cell_type": "code",
      "source": [
        "df_siniestros.isnull().sum()"
      ],
      "metadata": {
        "id": "vdRgQqY9HYdh"
      },
      "execution_count": null,
      "outputs": []
    },
    {
      "cell_type": "code",
      "source": [
        "df_siniestros[[\"Altura\", \"Calle\", \"Dirección Normalizada\", \"Cruce\"]][:5]"
      ],
      "metadata": {
        "id": "BXZ_vopsHa_o"
      },
      "execution_count": null,
      "outputs": []
    },
    {
      "cell_type": "code",
      "source": [
        "df_siniestros[df_siniestros[\"Dirección Normalizada\"].isnull()][[\"Dirección Normalizada\", \"Cruce\",\"Altura\", \"Calle\"]]"
      ],
      "metadata": {
        "id": "VmYmMd54Hdud"
      },
      "execution_count": null,
      "outputs": []
    },
    {
      "cell_type": "code",
      "source": [
        "#Tras examinar datos nulos, que representan el 5% del dataset; distribuidos en tres columnas Altura, Dirección Normalizada, Cruce y Calle"
      ],
      "metadata": {
        "id": "igzhhYHvHgXH"
      },
      "execution_count": null,
      "outputs": []
    },
    {
      "cell_type": "code",
      "source": [
        "#Analizando los datos de la Altura se procede a eliminarla debido a la gran cantidad de faltantes y no existiendo manera de poder rellenar las colummas;"
      ],
      "metadata": {
        "id": "thvsM884Ho0x"
      },
      "execution_count": null,
      "outputs": []
    },
    {
      "cell_type": "code",
      "source": [
        "plt.hist(df_siniestros[\"COMUNA\"])\n",
        "plt.show()"
      ],
      "metadata": {
        "id": "S38Qq9tmKNom"
      },
      "execution_count": null,
      "outputs": []
    },
    {
      "cell_type": "code",
      "source": [
        "plt.hist(df_siniestros[\"TIPO_DE_CALLE\"])\n",
        "plt.show()"
      ],
      "metadata": {
        "id": "5-EDBL3QKOb9"
      },
      "execution_count": null,
      "outputs": []
    },
    {
      "cell_type": "code",
      "source": [
        "plt.hist(df_siniestros[\"VICTIMA\"],bins=10)\n",
        "plt.xticks(rotation=45)\n",
        "plt.show()"
      ],
      "metadata": {
        "id": "YXuwrOUhKR8T"
      },
      "execution_count": null,
      "outputs": []
    },
    {
      "cell_type": "code",
      "source": [
        "plt.hist(df_siniestros[\"ACUSADO\"],bins=10)\n",
        "plt.xticks(rotation=45)\n",
        "plt.show()"
      ],
      "metadata": {
        "id": "Z-kuTuXRKW4X"
      },
      "execution_count": null,
      "outputs": []
    },
    {
      "cell_type": "code",
      "source": [],
      "metadata": {
        "id": "sHbCpYl2KZx2"
      },
      "execution_count": null,
      "outputs": []
    },
    {
      "cell_type": "code",
      "source": [
        "# Se elimina la columna \"Altura\"\n",
        "df_siniestros=df_siniestros.drop(\"Altura\", axis=1)\n",
        "df_siniestros.columns"
      ],
      "metadata": {
        "id": "53_MeeY1HuiL"
      },
      "execution_count": null,
      "outputs": []
    },
    {
      "cell_type": "code",
      "source": [
        "df_siniestros.duplicated().sum()"
      ],
      "metadata": {
        "id": "uP_yo7fsHwmA"
      },
      "execution_count": null,
      "outputs": []
    },
    {
      "cell_type": "code",
      "source": [
        "#Transformación de los datos\n",
        "#Se regularizan los tipos de datos de las columnas\n",
        "\n",
        "#Ante la salida de la info del dataset, se observa que la primera columna con tipo de dato que necesita transformación es HH, debido a que se encuentra como objeto y deberia ser númerico."
      ],
      "metadata": {
        "id": "qY11jR24HzjI"
      },
      "execution_count": null,
      "outputs": []
    },
    {
      "cell_type": "code",
      "source": [
        "df_siniestros[\"HH\"].unique()"
      ],
      "metadata": {
        "id": "n9NjhqEUH7Yb"
      },
      "execution_count": null,
      "outputs": []
    },
    {
      "cell_type": "code",
      "source": [
        "# Cambio el dato horas  a tipo de dato numerico\n",
        "df_siniestros [\"HH\"]= pd.to_numeric(df_siniestros [\"HH\"], downcast=\"integer\", errors=\"coerce\")"
      ],
      "metadata": {
        "id": "vyYldCHAH9ua"
      },
      "execution_count": null,
      "outputs": []
    },
    {
      "cell_type": "code",
      "source": [
        "# Filtrar filas con posiciones no válidas\n",
        "valid_positions = ~(df_siniestros['pos x'].str.contains('[^0-9.,-]') | df_siniestros['pos y'].str.contains('[^0-9.,-]') | (df_siniestros['pos x'] == '.') | (df_siniestros['pos y'] == '.'))\n"
      ],
      "metadata": {
        "id": "Oe23dNDuIAT7"
      },
      "execution_count": null,
      "outputs": []
    },
    {
      "cell_type": "code",
      "source": [
        "# Establecer posiciones no válidas en NaN\n",
        "df_siniestros.loc[~valid_positions, ['pos x', 'pos y']] = np.nan"
      ],
      "metadata": {
        "id": "Iv903TW2IDvT"
      },
      "execution_count": null,
      "outputs": []
    },
    {
      "cell_type": "code",
      "source": [
        "# Convertir las cadenas a tipo numérico (float)\n",
        "df_siniestros['pos x'] = df_siniestros['pos x'].str.replace(',', '.').astype(float)\n",
        "df_siniestros['pos y'] = df_siniestros['pos y'].str.replace(',', '.').astype(float)"
      ],
      "metadata": {
        "id": "EE5VM1u3ILDS"
      },
      "execution_count": null,
      "outputs": []
    },
    {
      "cell_type": "code",
      "source": [
        "df_siniestros.head(3)"
      ],
      "metadata": {
        "id": "lIpD9Yw0INrV"
      },
      "execution_count": null,
      "outputs": []
    },
    {
      "cell_type": "code",
      "source": [
        "# Función para extraer las coordenadas CABA\n",
        "# Esta función toma un argumento texto, que es el texto de entrada del cual se intentarán extraer las coordenadas\n",
        "# Utiliza una expresión regular (re.findall) para buscar todas las coincidencias de números decimales (que tienen un punto como s"
      ],
      "metadata": {
        "id": "0EXIk5Z_IPxq"
      },
      "execution_count": null,
      "outputs": []
    },
    {
      "cell_type": "code",
      "source": [
        "def extraer_coordenadas(texto):\n",
        "    # Utilizamos una expresión regular para extraer las coordenadas\n",
        "    coordenadas = re.findall(r'\\d+\\.\\d+', texto)\n",
        "    if len(coordenadas) == 2:\n",
        "        return float(coordenadas[0]), float(coordenadas[1])\n",
        "    else:\n",
        "        return None, None\n",
        "\n",
        "# Aplicar la función a la columna 'XY (CABA)'\n",
        "df_siniestros['coordenada_x'], df_siniestros['coordenada_y'] = zip(*df_siniestros['XY (CABA)'].map(extraer_coordenadas))\n",
        "\n",
        "# Filtrar los registros que no tienen coordenadas válidas\n",
        "df_siniestros = df_siniestros[(df_siniestros['coordenada_x'].notnull()) & (df_siniestros['coordenada_y'].notnull())]"
      ],
      "metadata": {
        "id": "-bQlC1WHIWaI"
      },
      "execution_count": null,
      "outputs": []
    },
    {
      "cell_type": "code",
      "source": [
        "df_siniestros.head(3)"
      ],
      "metadata": {
        "id": "ajWv7J27IbR3"
      },
      "execution_count": null,
      "outputs": []
    },
    {
      "cell_type": "code",
      "source": [
        "#Se observan las columnas resultantes\n",
        "df_siniestros.columns"
      ],
      "metadata": {
        "id": "HTCoIqjlIeFR"
      },
      "execution_count": null,
      "outputs": []
    },
    {
      "cell_type": "code",
      "source": [
        "#Cambio la primer letra a mayúscula\n",
        "df_siniestros.columns = [x.capitalize() for x in df_siniestros.columns]\n",
        "# Reemplazo guiones por espacios\n",
        "df_siniestros.columns = df_siniestros.columns.str.replace(\"_\", \" \")\n",
        "#Renombra columnas\n",
        "df_siniestros= df_siniestros.rename(columns={\"N victimas\": \"Num víctimas\",\n",
        "                                            \"Aaaa\": \"Año\",\n",
        "                                            \"Mm\":\"Mes\",\n",
        "                                            \"Dd\": \"Día\",\n",
        "                                            \"Hh\": \"Hora int\"})\n",
        "df_siniestros.columns"
      ],
      "metadata": {
        "id": "0Jzp1PF0Igtq"
      },
      "execution_count": null,
      "outputs": []
    },
    {
      "cell_type": "code",
      "source": [
        "#trabajamos con el data set lesiones"
      ],
      "metadata": {
        "id": "Hfayz7huIk8G"
      },
      "execution_count": null,
      "outputs": []
    },
    {
      "cell_type": "code",
      "source": [
        "df_victimas"
      ],
      "metadata": {
        "id": "jUVKJKijIuIu"
      },
      "execution_count": null,
      "outputs": []
    },
    {
      "cell_type": "code",
      "source": [
        "df_victimas.info()"
      ],
      "metadata": {
        "id": "fkXvJYrfIvFt"
      },
      "execution_count": null,
      "outputs": []
    },
    {
      "cell_type": "code",
      "source": [
        "plt.hist(df_victimas[\"acusado\"],bins=15)\n",
        "plt.xticks(rotation=45)\n",
        "plt.show()"
      ],
      "metadata": {
        "id": "xErd6Cq6K7hz"
      },
      "execution_count": null,
      "outputs": []
    },
    {
      "cell_type": "code",
      "source": [
        "plt.hist(df_victimas[\"victima\"],bins=10)\n",
        "plt.xticks(rotation=45)\n",
        "plt.show()"
      ],
      "metadata": {
        "id": "ml5hK2prK9vQ"
      },
      "execution_count": null,
      "outputs": []
    },
    {
      "cell_type": "code",
      "source": [
        "plt.hist(df_victimas[\"gravedad\"],bins=5)\n",
        "plt.xlabel(\"SEXO\")\n",
        "plt.show()"
      ],
      "metadata": {
        "id": "OQcLnF3mLBCn"
      },
      "execution_count": null,
      "outputs": []
    }
  ]
}